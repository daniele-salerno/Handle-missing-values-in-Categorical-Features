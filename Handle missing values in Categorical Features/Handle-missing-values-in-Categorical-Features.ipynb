{
 "cells": [
  {
   "cell_type": "markdown",
   "metadata": {},
   "source": [
    "# Handle missing values in Categorical Features\n",
    "In this notebook will be shown how to deal with categorical features with missing values.\n",
    "It will be used the [Classified Ads for Cars](https://www.kaggle.com/mirosval/personal-cars-classifieds) dataset to predict the price of ADs through a simple model of Linear Regression. \n",
    "\n",
    "In order to show the various strategies and relevants pros / cons, we will focus on a particular categorical feature, the **maker**, the name of the brand of cars (Toyota, Kia, Ford, Bmw, ...). \n",
    "\n",
    "We will cover the following techniques:\n",
    "* **Replace** missing values with the *most frequent values*.\n",
    "* **Delete** rows with null values.\n",
    "* **Predict** values using a Classifier Algorithm (supervised or unsupervised)\n",
    "\n",
    "\n",
    "## Steps of this notebook\n",
    "* **Show Raw Data**: let's see how our dataset looks like.\n",
    "* **Some Feature Engineering**: data cleaning and extraction of new features.\n",
    "* **Models**: we will deal missing values comparing different techniques.\n",
    "* **Conclusions**"
   ]
  },
  {
   "cell_type": "markdown",
   "metadata": {},
   "source": [
    "## Show Raw Data"
   ]
  },
  {
   "cell_type": "markdown",
   "metadata": {},
   "source": [
    "#### Importing Libraries"
   ]
  },
  {
   "cell_type": "code",
   "execution_count": 1,
   "metadata": {},
   "outputs": [],
   "source": [
    "import pandas as pd\n",
    "import numpy as np\n",
    "\n",
    "from sklearn.linear_model import LinearRegression\n",
    "from sklearn.metrics import mean_squared_error, r2_score\n",
    "from sklearn.model_selection import train_test_split\n",
    "from scipy import stats\n",
    "import matplotlib.pyplot as plt\n",
    "import seaborn as sns\n",
    "\n",
    "%matplotlib inline"
   ]
  },
  {
   "cell_type": "markdown",
   "metadata": {},
   "source": [
    "let's see how our dataset looks like"
   ]
  },
  {
   "cell_type": "code",
   "execution_count": 2,
   "metadata": {},
   "outputs": [
    {
     "name": "stdout",
     "output_type": "stream",
     "text": [
      "Raw data has 3552912 rows, and 16 columns\n"
     ]
    },
    {
     "data": {
      "text/html": [
       "<div>\n",
       "<style scoped>\n",
       "    .dataframe tbody tr th:only-of-type {\n",
       "        vertical-align: middle;\n",
       "    }\n",
       "\n",
       "    .dataframe tbody tr th {\n",
       "        vertical-align: top;\n",
       "    }\n",
       "\n",
       "    .dataframe thead th {\n",
       "        text-align: right;\n",
       "    }\n",
       "</style>\n",
       "<table border=\"1\" class=\"dataframe\">\n",
       "  <thead>\n",
       "    <tr style=\"text-align: right;\">\n",
       "      <th></th>\n",
       "      <th>maker</th>\n",
       "      <th>model</th>\n",
       "      <th>mileage</th>\n",
       "      <th>manufacture_year</th>\n",
       "      <th>engine_displacement</th>\n",
       "      <th>engine_power</th>\n",
       "      <th>body_type</th>\n",
       "      <th>color_slug</th>\n",
       "      <th>stk_year</th>\n",
       "      <th>transmission</th>\n",
       "      <th>door_count</th>\n",
       "      <th>seat_count</th>\n",
       "      <th>fuel_type</th>\n",
       "      <th>date_created</th>\n",
       "      <th>date_last_seen</th>\n",
       "      <th>price_eur</th>\n",
       "    </tr>\n",
       "  </thead>\n",
       "  <tbody>\n",
       "    <tr>\n",
       "      <th>0</th>\n",
       "      <td>ford</td>\n",
       "      <td>galaxy</td>\n",
       "      <td>151000.0</td>\n",
       "      <td>2011.0</td>\n",
       "      <td>2000.0</td>\n",
       "      <td>103.0</td>\n",
       "      <td>NaN</td>\n",
       "      <td>NaN</td>\n",
       "      <td>None</td>\n",
       "      <td>man</td>\n",
       "      <td>5</td>\n",
       "      <td>7</td>\n",
       "      <td>diesel</td>\n",
       "      <td>2015-11-14 18:10:06.838319+00</td>\n",
       "      <td>2016-01-27 20:40:15.46361+00</td>\n",
       "      <td>10584.75</td>\n",
       "    </tr>\n",
       "    <tr>\n",
       "      <th>1</th>\n",
       "      <td>skoda</td>\n",
       "      <td>octavia</td>\n",
       "      <td>143476.0</td>\n",
       "      <td>2012.0</td>\n",
       "      <td>2000.0</td>\n",
       "      <td>81.0</td>\n",
       "      <td>NaN</td>\n",
       "      <td>NaN</td>\n",
       "      <td>None</td>\n",
       "      <td>man</td>\n",
       "      <td>5</td>\n",
       "      <td>5</td>\n",
       "      <td>diesel</td>\n",
       "      <td>2015-11-14 18:10:06.853411+00</td>\n",
       "      <td>2016-01-27 20:40:15.46361+00</td>\n",
       "      <td>8882.31</td>\n",
       "    </tr>\n",
       "    <tr>\n",
       "      <th>2</th>\n",
       "      <td>bmw</td>\n",
       "      <td>NaN</td>\n",
       "      <td>97676.0</td>\n",
       "      <td>2010.0</td>\n",
       "      <td>1995.0</td>\n",
       "      <td>85.0</td>\n",
       "      <td>NaN</td>\n",
       "      <td>NaN</td>\n",
       "      <td>None</td>\n",
       "      <td>man</td>\n",
       "      <td>5</td>\n",
       "      <td>5</td>\n",
       "      <td>diesel</td>\n",
       "      <td>2015-11-14 18:10:06.861792+00</td>\n",
       "      <td>2016-01-27 20:40:15.46361+00</td>\n",
       "      <td>12065.06</td>\n",
       "    </tr>\n",
       "    <tr>\n",
       "      <th>3</th>\n",
       "      <td>skoda</td>\n",
       "      <td>fabia</td>\n",
       "      <td>111970.0</td>\n",
       "      <td>2004.0</td>\n",
       "      <td>1200.0</td>\n",
       "      <td>47.0</td>\n",
       "      <td>NaN</td>\n",
       "      <td>NaN</td>\n",
       "      <td>None</td>\n",
       "      <td>man</td>\n",
       "      <td>5</td>\n",
       "      <td>5</td>\n",
       "      <td>gasoline</td>\n",
       "      <td>2015-11-14 18:10:06.872313+00</td>\n",
       "      <td>2016-01-27 20:40:15.46361+00</td>\n",
       "      <td>2960.77</td>\n",
       "    </tr>\n",
       "    <tr>\n",
       "      <th>4</th>\n",
       "      <td>skoda</td>\n",
       "      <td>fabia</td>\n",
       "      <td>128886.0</td>\n",
       "      <td>2004.0</td>\n",
       "      <td>1200.0</td>\n",
       "      <td>47.0</td>\n",
       "      <td>NaN</td>\n",
       "      <td>NaN</td>\n",
       "      <td>None</td>\n",
       "      <td>man</td>\n",
       "      <td>5</td>\n",
       "      <td>5</td>\n",
       "      <td>gasoline</td>\n",
       "      <td>2015-11-14 18:10:06.880335+00</td>\n",
       "      <td>2016-01-27 20:40:15.46361+00</td>\n",
       "      <td>2738.71</td>\n",
       "    </tr>\n",
       "  </tbody>\n",
       "</table>\n",
       "</div>"
      ],
      "text/plain": [
       "   maker    model   mileage  manufacture_year  engine_displacement  \\\n",
       "0   ford   galaxy  151000.0            2011.0               2000.0   \n",
       "1  skoda  octavia  143476.0            2012.0               2000.0   \n",
       "2    bmw      NaN   97676.0            2010.0               1995.0   \n",
       "3  skoda    fabia  111970.0            2004.0               1200.0   \n",
       "4  skoda    fabia  128886.0            2004.0               1200.0   \n",
       "\n",
       "   engine_power body_type color_slug stk_year transmission door_count  \\\n",
       "0         103.0       NaN        NaN     None          man          5   \n",
       "1          81.0       NaN        NaN     None          man          5   \n",
       "2          85.0       NaN        NaN     None          man          5   \n",
       "3          47.0       NaN        NaN     None          man          5   \n",
       "4          47.0       NaN        NaN     None          man          5   \n",
       "\n",
       "  seat_count fuel_type                   date_created  \\\n",
       "0          7    diesel  2015-11-14 18:10:06.838319+00   \n",
       "1          5    diesel  2015-11-14 18:10:06.853411+00   \n",
       "2          5    diesel  2015-11-14 18:10:06.861792+00   \n",
       "3          5  gasoline  2015-11-14 18:10:06.872313+00   \n",
       "4          5  gasoline  2015-11-14 18:10:06.880335+00   \n",
       "\n",
       "                 date_last_seen  price_eur  \n",
       "0  2016-01-27 20:40:15.46361+00   10584.75  \n",
       "1  2016-01-27 20:40:15.46361+00    8882.31  \n",
       "2  2016-01-27 20:40:15.46361+00   12065.06  \n",
       "3  2016-01-27 20:40:15.46361+00    2960.77  \n",
       "4  2016-01-27 20:40:15.46361+00    2738.71  "
      ]
     },
     "execution_count": 2,
     "metadata": {},
     "output_type": "execute_result"
    }
   ],
   "source": [
    "import zipfile\n",
    "\n",
    "filename = \"cars.csv\"\n",
    "\n",
    "with zipfile.ZipFile(filename + \".zip\", 'r') as zip_ref:\n",
    "    zip_ref.extractall(\"\")\n",
    "\n",
    "dtypes = {\n",
    "    \"maker\": str, # brand name\n",
    "    \"model\": str,\n",
    "    \"mileage\": float,\n",
    "    \"manufacture_year\": float,\n",
    "    \"engine_displacement\": float,\n",
    "    \"engine_power\": float,\n",
    "    \"body_type\": str, # almost never present\n",
    "    \"color_slug\": str, # also almost never present\n",
    "    \"stk_year\": str,\n",
    "    \"transmission\": str, # automatic or manual\n",
    "    \"door_count\": str,\n",
    "    \"seat_count\": str,\n",
    "    \"fuel_type\": str, # gasoline, diesel\n",
    "    \"date_created\": str, # when the ad was scraped\n",
    "    \"date_last_seen\": str, # when the ad was last seen. Dataset policy was to remove all ads older than 60 days\n",
    "    \"price_eur\": float} # list price converted to EUR\n",
    "\n",
    "df = pd.read_csv(filename, dtype=dtypes)\n",
    "raw_shape = df.shape\n",
    "print(f\"Raw data has {raw_shape[0]} rows, and {raw_shape[1]} columns\")\n",
    "df.head()"
   ]
  },
  {
   "cell_type": "code",
   "execution_count": 3,
   "metadata": {},
   "outputs": [
    {
     "name": "stdout",
     "output_type": "stream",
     "text": [
      "maker                   518915\n",
      "model                  1133361\n",
      "mileage                 362584\n",
      "manufacture_year        370578\n",
      "engine_displacement     743414\n",
      "engine_power            554877\n",
      "body_type              1122914\n",
      "color_slug             3343411\n",
      "stk_year               1708156\n",
      "transmission            741630\n",
      "door_count              614373\n",
      "seat_count              749489\n",
      "fuel_type              1847606\n",
      "date_created                 0\n",
      "date_last_seen               0\n",
      "price_eur                    0\n",
      "dtype: int64\n"
     ]
    }
   ],
   "source": [
    "# Tons of missing values\n",
    "print(df.isna().sum())"
   ]
  },
  {
   "cell_type": "code",
   "execution_count": 4,
   "metadata": {},
   "outputs": [
    {
     "data": {
      "text/html": [
       "<div>\n",
       "<style scoped>\n",
       "    .dataframe tbody tr th:only-of-type {\n",
       "        vertical-align: middle;\n",
       "    }\n",
       "\n",
       "    .dataframe tbody tr th {\n",
       "        vertical-align: top;\n",
       "    }\n",
       "\n",
       "    .dataframe thead th {\n",
       "        text-align: right;\n",
       "    }\n",
       "</style>\n",
       "<table border=\"1\" class=\"dataframe\">\n",
       "  <thead>\n",
       "    <tr style=\"text-align: right;\">\n",
       "      <th></th>\n",
       "      <th>mileage</th>\n",
       "      <th>manufacture_year</th>\n",
       "      <th>engine_displacement</th>\n",
       "      <th>engine_power</th>\n",
       "      <th>price_eur</th>\n",
       "    </tr>\n",
       "  </thead>\n",
       "  <tbody>\n",
       "    <tr>\n",
       "      <th>count</th>\n",
       "      <td>3.19033e+06</td>\n",
       "      <td>3.18233e+06</td>\n",
       "      <td>2.8095e+06</td>\n",
       "      <td>2.99804e+06</td>\n",
       "      <td>3.55291e+06</td>\n",
       "    </tr>\n",
       "    <tr>\n",
       "      <th>mean</th>\n",
       "      <td>115814</td>\n",
       "      <td>2000.87</td>\n",
       "      <td>2043.96</td>\n",
       "      <td>98.468</td>\n",
       "      <td>1.62581e+06</td>\n",
       "    </tr>\n",
       "    <tr>\n",
       "      <th>std</th>\n",
       "      <td>342251</td>\n",
       "      <td>81.7259</td>\n",
       "      <td>1973.96</td>\n",
       "      <td>49.0731</td>\n",
       "      <td>2.02562e+09</td>\n",
       "    </tr>\n",
       "    <tr>\n",
       "      <th>min</th>\n",
       "      <td>0</td>\n",
       "      <td>0</td>\n",
       "      <td>0</td>\n",
       "      <td>1</td>\n",
       "      <td>0.04</td>\n",
       "    </tr>\n",
       "    <tr>\n",
       "      <th>25%</th>\n",
       "      <td>18800</td>\n",
       "      <td>2004</td>\n",
       "      <td>1400</td>\n",
       "      <td>68</td>\n",
       "      <td>1295.34</td>\n",
       "    </tr>\n",
       "    <tr>\n",
       "      <th>50%</th>\n",
       "      <td>86415</td>\n",
       "      <td>2009</td>\n",
       "      <td>1798</td>\n",
       "      <td>86</td>\n",
       "      <td>7364.91</td>\n",
       "    </tr>\n",
       "    <tr>\n",
       "      <th>75%</th>\n",
       "      <td>158025</td>\n",
       "      <td>2013</td>\n",
       "      <td>1997</td>\n",
       "      <td>110</td>\n",
       "      <td>16284.2</td>\n",
       "    </tr>\n",
       "    <tr>\n",
       "      <th>max</th>\n",
       "      <td>1e+07</td>\n",
       "      <td>2017</td>\n",
       "      <td>32767</td>\n",
       "      <td>2237</td>\n",
       "      <td>2.70615e+12</td>\n",
       "    </tr>\n",
       "  </tbody>\n",
       "</table>\n",
       "</div>"
      ],
      "text/plain": [
       "           mileage manufacture_year engine_displacement engine_power  \\\n",
       "count  3.19033e+06      3.18233e+06          2.8095e+06  2.99804e+06   \n",
       "mean        115814          2000.87             2043.96       98.468   \n",
       "std         342251          81.7259             1973.96      49.0731   \n",
       "min              0                0                   0            1   \n",
       "25%          18800             2004                1400           68   \n",
       "50%          86415             2009                1798           86   \n",
       "75%         158025             2013                1997          110   \n",
       "max          1e+07             2017               32767         2237   \n",
       "\n",
       "         price_eur  \n",
       "count  3.55291e+06  \n",
       "mean   1.62581e+06  \n",
       "std    2.02562e+09  \n",
       "min           0.04  \n",
       "25%        1295.34  \n",
       "50%        7364.91  \n",
       "75%        16284.2  \n",
       "max    2.70615e+12  "
      ]
     },
     "execution_count": 4,
     "metadata": {},
     "output_type": "execute_result"
    }
   ],
   "source": [
    "# Here we can see strage data, like the Min() and the Max() of some features\n",
    "df.describe().apply(lambda s: s.apply(lambda x: format(x, 'g')))"
   ]
  },
  {
   "cell_type": "code",
   "execution_count": 5,
   "metadata": {},
   "outputs": [
    {
     "name": "stdout",
     "output_type": "stream",
     "text": [
      "<class 'pandas.core.frame.DataFrame'>\n",
      "RangeIndex: 3552912 entries, 0 to 3552911\n",
      "Data columns (total 16 columns):\n",
      "maker                  object\n",
      "model                  object\n",
      "mileage                float64\n",
      "manufacture_year       float64\n",
      "engine_displacement    float64\n",
      "engine_power           float64\n",
      "body_type              object\n",
      "color_slug             object\n",
      "stk_year               object\n",
      "transmission           object\n",
      "door_count             object\n",
      "seat_count             object\n",
      "fuel_type              object\n",
      "date_created           object\n",
      "date_last_seen         object\n",
      "price_eur              float64\n",
      "dtypes: float64(5), object(11)\n",
      "memory usage: 433.7+ MB\n"
     ]
    }
   ],
   "source": [
    "df.info()"
   ]
  },
  {
   "cell_type": "markdown",
   "metadata": {},
   "source": [
    "## Some Feature Engineering\n",
    "Let's fill some null values..."
   ]
  },
  {
   "cell_type": "code",
   "execution_count": 6,
   "metadata": {},
   "outputs": [],
   "source": [
    "df = df[df[\"price_eur\"] != 1295.34]\n",
    "df = df[df[\"price_eur\"] > 150.00]\n",
    "\n",
    "# Manufacture Year\n",
    "year_of_scepticism = 1970\n",
    "average_years = df.loc[df[\"manufacture_year\"] >= year_of_scepticism].\\\n",
    "groupby([\"maker\", \"model\"])[\"manufacture_year\"].mean().round().rename(\"avg_manufacture_year\").reset_index()\n",
    "\n",
    "df = df.merge(average_years, how=\"left\", on=[\"maker\", \"model\"])\n",
    "df.loc[df[\"manufacture_year\"] < year_of_scepticism, \"manufacture_year\"] = np.nan\n",
    "df[\"manufacture_year\"] = df[\"manufacture_year\"].fillna(df[\"avg_manufacture_year\"])\n",
    "df = df[df['manufacture_year'].notna()]\n",
    "\n",
    "# Engine Power\n",
    "min_engine_power = 50\n",
    "average = df.loc[df[\"engine_power\"] >= min_engine_power].\\\n",
    "groupby([\"maker\", \"model\", \"manufacture_year\"])[\"engine_power\"].mean().round().rename(\"avg_engine_power\").reset_index()\n",
    "\n",
    "df = df.merge(average, how=\"left\", on=[\"maker\", \"model\", \"manufacture_year\"])\n",
    "df.loc[df[\"engine_power\"] < min_engine_power, \"engine_power\"] = np.nan\n",
    "df[\"engine_power\"] = df[\"engine_power\"].fillna(df[\"avg_engine_power\"])\n",
    "df = df[df['engine_power'].notna()]\n",
    "\n",
    "# Engine Displacement\n",
    "min_engine_displacement = 600\n",
    "average = df.loc[df[\"engine_displacement\"] >= min_engine_displacement].\\\n",
    "groupby([\"maker\", \"model\"])[\"engine_displacement\"].mean().round().rename(\"avg_engine_displacement\").reset_index()\n",
    "\n",
    "df = df.merge(average, how=\"left\", on=[\"maker\", \"model\"])\n",
    "df.loc[df[\"engine_displacement\"] < min_engine_displacement, \"engine_displacement\"] = np.nan\n",
    "df[\"engine_displacement\"] = df[\"engine_displacement\"].fillna(df[\"avg_engine_displacement\"])\n",
    "df = df[df['engine_displacement'].notna()]\n",
    "\n",
    "# Mileage\n",
    "average = df.groupby([\"manufacture_year\"])[\"mileage\"].mean().round().rename(\"avg_mileage\").reset_index()\n",
    "\n",
    "df = df.merge(average, how=\"left\", on=[\"manufacture_year\"])\n",
    "df[\"mileage\"] = df[\"mileage\"].fillna(df[\"avg_mileage\"])\n",
    "\n",
    "# Fuel Type\n",
    "average = df.loc[df[\"fuel_type\"].notna()].\\\n",
    "groupby([\"maker\",\"model\"])[\"fuel_type\"].agg(lambda x:x.value_counts().index[0]).rename(\"mode_fuel_type\").reset_index()\n",
    "\n",
    "df = df.merge(average, how=\"left\", on=[\"maker\",\"model\"])\n",
    "df.loc[df[\"fuel_type\"].isna(), \"fuel_type\"] = np.nan\n",
    "df[\"fuel_type\"] = df[\"fuel_type\"].fillna(df[\"mode_fuel_type\"])\n",
    "df = df[df['fuel_type'].notna()]\n",
    "\n",
    "# for col in [\"fuel_type\"]:\n",
    "#     print(col,\": \",len(df[col].unique()) , \" labels\")\n",
    "    \n",
    "df = df[df['fuel_type'].notna()]\n",
    "df = pd.get_dummies(df,columns=[\"fuel_type\"])"
   ]
  },
  {
   "cell_type": "markdown",
   "metadata": {},
   "source": [
    "let's transform str dates in datetimes and creare a new feature with the duration of ADs"
   ]
  },
  {
   "cell_type": "code",
   "execution_count": 7,
   "metadata": {},
   "outputs": [],
   "source": [
    "# ad_duration\n",
    "df['date_created'] = pd.to_datetime(df['date_created']).dt.normalize()\n",
    "df['date_last_seen'] = pd.to_datetime(df['date_last_seen']).dt.normalize()\n",
    "df['ad_duration'] = (df['date_last_seen'] - df['date_created']).dt.days # new feature: how much last the ad"
   ]
  },
  {
   "cell_type": "markdown",
   "metadata": {},
   "source": [
    "**Replace** missing values with the *median*"
   ]
  },
  {
   "cell_type": "code",
   "execution_count": 8,
   "metadata": {},
   "outputs": [],
   "source": [
    "# \n",
    "features_to_fillna = [\"door_count\", \"seat_count\"]\n",
    "for feature in features_to_fillna:\n",
    "    df[feature] = pd.to_numeric(df[feature], errors=\"coerce\") # transform to numeric\n",
    "    replace_with = df[feature].median()                       # deduction of the median\n",
    "    df[feature].fillna(replace_with,inplace=True)             # replace null\n",
    "    \n",
    "df[\"seat_str\"] = np.select(\n",
    "    condlist=[\n",
    "        (df[\"seat_count\"] >= 0) & (df[\"seat_count\"] < 4),\n",
    "        (df[\"seat_count\"] >= 4) & (df[\"seat_count\"] < 6),\n",
    "        (df[\"seat_count\"] >= 6)],\n",
    "    choicelist=[\n",
    "        \"small\",\n",
    "        \"medium\",\n",
    "        \"large\",\n",
    "        ],\n",
    "    default=\"unknown\")\n",
    "df = pd.get_dummies(df,columns=[\"seat_str\"])\n",
    "df = df.drop([\"seat_count\"], axis=1)\n",
    "df = df.drop([\"door_count\"], axis=1)"
   ]
  },
  {
   "cell_type": "markdown",
   "metadata": {},
   "source": [
    "**Delete** rows with null values."
   ]
  },
  {
   "cell_type": "code",
   "execution_count": 9,
   "metadata": {},
   "outputs": [],
   "source": [
    "df = df[df['transmission'].notna()]\n",
    "df = pd.get_dummies(df,columns=[\"transmission\"])\n",
    "#size_mapping = {\"man\":0,\"auto\":1}\n",
    "#df[\"transmission\"] = df[\"transmission\"].map(size_mapping)"
   ]
  },
  {
   "cell_type": "markdown",
   "metadata": {},
   "source": [
    "**Drop** support column and unusable features"
   ]
  },
  {
   "cell_type": "code",
   "execution_count": 10,
   "metadata": {},
   "outputs": [],
   "source": [
    "# drop features\n",
    "features_to_drop = [\"model\", \"body_type\", \"color_slug\", \"stk_year\", \"avg_manufacture_year\", \"date_created\", \"date_last_seen\", \"avg_engine_displacement\",\"avg_engine_power\",\"avg_mileage\", \"mode_fuel_type\"]\n",
    "df = df.drop(features_to_drop, axis=\"columns\")"
   ]
  },
  {
   "cell_type": "markdown",
   "metadata": {},
   "source": [
    "Now that we've cleaned all the features, with the exception of the *maker*, let's see how they look like"
   ]
  },
  {
   "cell_type": "code",
   "execution_count": 11,
   "metadata": {},
   "outputs": [
    {
     "name": "stdout",
     "output_type": "stream",
     "text": [
      "maker                  212897\n",
      "mileage                     0\n",
      "manufacture_year            0\n",
      "engine_displacement         0\n",
      "engine_power                0\n",
      "price_eur                   0\n",
      "fuel_type_diesel            0\n",
      "fuel_type_gasoline          0\n",
      "ad_duration                 0\n",
      "seat_str_large              0\n",
      "seat_str_medium             0\n",
      "seat_str_small              0\n",
      "transmission_auto           0\n",
      "transmission_man            0\n",
      "dtype: int64\n"
     ]
    }
   ],
   "source": [
    "# Missing values\n",
    "print(df.isna().sum())"
   ]
  },
  {
   "cell_type": "code",
   "execution_count": 12,
   "metadata": {},
   "outputs": [
    {
     "data": {
      "text/plain": [
       "<matplotlib.axes._subplots.AxesSubplot at 0x7facc6c038d0>"
      ]
     },
     "execution_count": 12,
     "metadata": {},
     "output_type": "execute_result"
    },
    {
     "data": {
      "image/png": "[encoded data removed]",
      "text/plain": [
       "<Figure size 1080x720 with 2 Axes>"
      ]
     },
     "metadata": {
      "needs_background": "light"
     },
     "output_type": "display_data"
    }
   ],
   "source": [
    "df_heatmap = df.copy()\n",
    "df_heatmap = df_heatmap.drop(\"maker\", axis=\"columns\")\n",
    "\n",
    "corr = df_heatmap.corr()\n",
    "plt.subplots(figsize=(15,10))\n",
    "sns.heatmap(corr, xticklabels=corr.columns, yticklabels=corr.columns, annot=True, )"
   ]
  },
  {
   "cell_type": "markdown",
   "metadata": {},
   "source": [
    "Almost there! Now we just have to handle the **maker** feature, and we will do it with four different ways. Then, for each of them, we will create a simple model of Linear Regression for the prediction.\n",
    "\n",
    "* **1st Model**: Delete the entire column **maker**.\n",
    "* **2nd Model**: Replace values with the *most frequent values*.\n",
    "* **3rd Model**: Delete rows with null values.\n",
    "* **4th Model**: Predict the missing values with the RandomForestClassifier."
   ]
  },
  {
   "cell_type": "code",
   "execution_count": 13,
   "metadata": {},
   "outputs": [],
   "source": [
    "mse_list = []\n",
    "r2_score_list = []\n",
    "num_records_list = []\n",
    "\n",
    "def remove_outliers(dataframe):\n",
    "    '''\n",
    "    return a dataframe without rows that are outliers in any column\n",
    "    '''\n",
    "    return dataframe\\\n",
    "    .loc[:, lambda df: df.std() > 0.04]\\\n",
    "    .loc[lambda df: (np.abs(stats.zscore(df)) < 3).all(axis=1)]\n",
    "\n",
    "def plot_regression(Y_test, Y_pred):\n",
    "    x = Y_test\n",
    "    y = Y_pred\n",
    "\n",
    "    plt.xlabel(\"True label\")\n",
    "    plt.ylabel(\"Predicted label\")\n",
    "    plt.plot(x, y, 'o')\n",
    "\n",
    "    m, b = np.polyfit(x, y, 1)\n",
    "\n",
    "    plt.plot(x, m*x + b)"
   ]
  },
  {
   "cell_type": "markdown",
   "metadata": {},
   "source": [
    "## Delete the entire column *Maker*.\n",
    "Our first try will be to create a model without the column **maker**, leaving the number of rows unchanged. This \"no-deal\" practice is needed when the large amount of missing data threatens to invalidate the entire feature.\n",
    "\n",
    "With this scenario we will probably have the worst scores on metrics.\n",
    " "
   ]
  },
  {
   "cell_type": "code",
   "execution_count": 14,
   "metadata": {},
   "outputs": [
    {
     "name": "stdout",
     "output_type": "stream",
     "text": [
      "MSE: 0.14013722469655854\n",
      "R2 score: 0.8381517221657157\n",
      "Remaining rows: 1692145\n"
     ]
    }
   ],
   "source": [
    "df_no_maker = df.copy()\n",
    "# drop of the feature maker\n",
    "df_no_maker = df_no_maker.drop(\"maker\", axis=\"columns\")\n",
    "\n",
    "df_no_maker = remove_outliers(df_no_maker)\n",
    "\n",
    "X = df_no_maker.drop(\"price_eur\", axis=1).values\n",
    "Y = np.log1p(df_no_maker[\"price_eur\"].values)\n",
    "\n",
    "X_train, X_test, Y_train, Y_test = train_test_split(X,Y, test_size=0.1, random_state=0)\n",
    "\n",
    "ll = LinearRegression()\n",
    "ll.fit(X_train, Y_train)\n",
    "Y_pred = ll.predict(X_test)\n",
    "\n",
    "mse_list.append(mean_squared_error(Y_test, Y_pred))\n",
    "r2_score_list.append(r2_score(Y_test, Y_pred))\n",
    "num_records_list.append(df_no_maker.shape[0])\n",
    "\n",
    "print(\"MSE: \"+str(mean_squared_error(Y_test, Y_pred)))\n",
    "print(\"R2 score: \"+str(r2_score(Y_test, Y_pred)))\n",
    "print(\"Remaining rows: \"+ str(df_no_maker.shape[0]))"
   ]
  },
  {
   "cell_type": "code",
   "execution_count": 15,
   "metadata": {},
   "outputs": [
    {
     "data": {
      "image/png": "[encoded data removed]",
      "text/plain": [
       "<Figure size 432x288 with 1 Axes>"
      ]
     },
     "metadata": {
      "needs_background": "light"
     },
     "output_type": "display_data"
    }
   ],
   "source": [
    "plot_regression(Y_test, Y_pred)"
   ]
  },
  {
   "cell_type": "markdown",
   "metadata": {},
   "source": [
    "## Replace missing values with the most frequent data.\n",
    "A certainly more effective method is to assign the missing values with the most frequent data, the mode. But be careful that this could lead to an unbalanced dataset, in case the missing values are a considerable number.\n"
   ]
  },
  {
   "cell_type": "code",
   "execution_count": 16,
   "metadata": {},
   "outputs": [
    {
     "name": "stdout",
     "output_type": "stream",
     "text": [
      "MSE: 0.10243504754362015\n",
      "R2 score: 0.8703379824571591\n",
      "Remaining rows: 188804\n"
     ]
    }
   ],
   "source": [
    "df_replace_mode = df.copy()\n",
    "\n",
    "replace_with = df_replace_mode[\"maker\"].mode()             # deduction of the mode\n",
    "df_replace_mode[\"maker\"].fillna(replace_with,inplace=True) # replace null with the mode\n",
    "\n",
    "df_replace_mode = pd.get_dummies(df_replace_mode,columns=[\"maker\"])\n",
    "\n",
    "df_replace_mode = remove_outliers(df_replace_mode)\n",
    "\n",
    "X = df_replace_mode.drop(\"price_eur\", axis=1).values\n",
    "Y = np.log1p(df_replace_mode[\"price_eur\"].values)\n",
    "\n",
    "X_train, X_test, Y_train, Y_test = train_test_split(X,Y, test_size=0.1, random_state=0)\n",
    "\n",
    "ll = LinearRegression()\n",
    "ll.fit(X_train, Y_train)\n",
    "Y_pred = ll.predict(X_test)\n",
    "\n",
    "mse_list.append(mean_squared_error(Y_test, Y_pred))\n",
    "r2_score_list.append(r2_score(Y_test, Y_pred))\n",
    "num_records_list.append(df_replace_mode.shape[0])\n",
    "\n",
    "print(\"MSE: \"+str(mean_squared_error(Y_test, Y_pred)))\n",
    "print(\"R2 score: \"+str(r2_score(Y_test, Y_pred)))\n",
    "print(\"Remaining rows: \"+str(df_replace_mode.shape[0]))"
   ]
  },
  {
   "cell_type": "code",
   "execution_count": 17,
   "metadata": {},
   "outputs": [
    {
     "data": {
      "image/png": "[encoded data removed]",
      "text/plain": [
       "<Figure size 432x288 with 1 Axes>"
      ]
     },
     "metadata": {
      "needs_background": "light"
     },
     "output_type": "display_data"
    }
   ],
   "source": [
    "plot_regression(Y_test, Y_pred)"
   ]
  },
  {
   "cell_type": "markdown",
   "metadata": {},
   "source": [
    "## Delete rows with null values.\n",
    "Another option is to delete rows that have null values. Absolutely not recommended if our dataset is very small, but easily feasible if there are missing only a few values or if we have a very large dataset\n"
   ]
  },
  {
   "cell_type": "code",
   "execution_count": 18,
   "metadata": {},
   "outputs": [
    {
     "name": "stdout",
     "output_type": "stream",
     "text": [
      "MSE: 0.10465841311348387\n",
      "R2 score: 0.8580395349902122\n",
      "Remaining rows: 159273\n"
     ]
    }
   ],
   "source": [
    "df_del_rows = df.copy()\n",
    "\n",
    "# deleteing row with null maker\n",
    "df_del_rows = df_del_rows[df_del_rows['maker'].notna()]\n",
    "df_del_rows = pd.get_dummies(df_del_rows,columns=[\"maker\"])\n",
    "\n",
    "df_del_rows = remove_outliers(df_del_rows)\n",
    "\n",
    "X = df_del_rows.drop(\"price_eur\", axis=1).values\n",
    "Y = np.log1p(df_del_rows[\"price_eur\"].values)\n",
    "\n",
    "X_train, X_test, Y_train, Y_test = train_test_split(X,Y, test_size=0.1, random_state=0)\n",
    "\n",
    "ll = LinearRegression()\n",
    "ll.fit(X_train, Y_train)\n",
    "Y_pred = ll.predict(X_test)\n",
    "\n",
    "mse_list.append(mean_squared_error(Y_test, Y_pred))\n",
    "r2_score_list.append(r2_score(Y_test, Y_pred))\n",
    "num_records_list.append(df_del_rows.shape[0])\n",
    "\n",
    "print(\"MSE: \"+str(mean_squared_error(Y_test, Y_pred)))\n",
    "print(\"R2 score: \"+str(r2_score(Y_test, Y_pred)))\n",
    "print(\"Remaining rows: \"+str(df_del_rows.shape[0]))"
   ]
  },
  {
   "cell_type": "code",
   "execution_count": 19,
   "metadata": {},
   "outputs": [
    {
     "data": {
      "image/png": "[encoded data removed]",
      "text/plain": [
       "<Figure size 432x288 with 1 Axes>"
      ]
     },
     "metadata": {
      "needs_background": "light"
     },
     "output_type": "display_data"
    }
   ],
   "source": [
    "plot_regression(Y_test, Y_pred)"
   ]
  },
  {
   "cell_type": "markdown",
   "metadata": {},
   "source": [
    "## Predict the missing values.\n",
    "The most interesting approach is for sure the predicting of missing values with a classification algorithm. This will give us the opportunity not to waste a good chunk of the dataset, and therefore a large amount of information. If our predictions are accurate enough with this technique we should have the best metric scores.\n",
    "\n",
    "Therefore:\n",
    "- we have to split the dataset between rows with the column *maker* valorized, and rows with null values.\n",
    "- the first dataset will become the dataset on which we will create the classification model with the *maker* as target feature.\n",
    "- use the model thus created to predict the missing values from the dataset with null values\n",
    "- merge the two dataset into one.\n",
    "\n"
   ]
  },
  {
   "cell_type": "markdown",
   "metadata": {},
   "source": [
    "Let's divide the dataset in two"
   ]
  },
  {
   "cell_type": "code",
   "execution_count": 20,
   "metadata": {
    "scrolled": true
   },
   "outputs": [
    {
     "name": "stdout",
     "output_type": "stream",
     "text": [
      "N. rows with maker not null: 1690186\n",
      "N. rows with maker null: 212897\n"
     ]
    }
   ],
   "source": [
    "df_with_maker = df[df['maker'].notna()]\n",
    "print(\"N. rows with maker not null:\", df_with_maker.shape[0])\n",
    "# df_with_maker.info(null_counts=True)\n",
    "\n",
    "df_no_maker = df[df['maker'].isna()]\n",
    "print(\"N. rows with maker null:\", df_no_maker.shape[0])\n",
    "# df_no_maker.info(null_counts=True)"
   ]
  },
  {
   "cell_type": "markdown",
   "metadata": {},
   "source": [
    "Let's use the first dataset to create the model"
   ]
  },
  {
   "cell_type": "code",
   "execution_count": 21,
   "metadata": {},
   "outputs": [
    {
     "name": "stdout",
     "output_type": "stream",
     "text": [
      "ACCURACY: TRAIN=0.9397 TEST=0.8904\n",
      "LOG LOSS: 0.3517935697819087\n"
     ]
    },
    {
     "data": {
      "image/png": "[encoded data removed]",
      "text/plain": [
       "<Figure size 432x288 with 1 Axes>"
      ]
     },
     "metadata": {
      "needs_background": "light"
     },
     "output_type": "display_data"
    }
   ],
   "source": [
    "from sklearn.ensemble import RandomForestClassifier\n",
    "from sklearn.metrics import log_loss\n",
    "from sklearn.metrics import accuracy_score\n",
    "\n",
    "X = df_with_maker.drop(\"maker\", axis=1).values\n",
    "Y = df_with_maker[\"maker\"].values\n",
    "\n",
    "X_train, X_test, Y_train, Y_test = train_test_split(X, Y, test_size=0.1, random_state=0)\n",
    "\n",
    "forest = RandomForestClassifier(n_estimators=45, max_depth=25, random_state=False, \n",
    "                                max_features=0.6, min_samples_leaf=3, n_jobs=-1)\n",
    "\n",
    "forest.fit(X_train, Y_train)\n",
    "\n",
    "y_pred_train = forest.predict(X_train)\n",
    "y_pred = forest.predict(X_test)\n",
    "\n",
    "y_pred_proba = forest.predict_proba(X_test)\n",
    "\n",
    "accuracy_train = accuracy_score(Y_train, y_pred_train)\n",
    "accuracy_test = accuracy_score(Y_test, y_pred)\n",
    "\n",
    "print(\"ACCURACY: TRAIN=%.4f TEST=%.4f\" % (accuracy_train,accuracy_test))\n",
    "print(\"LOG LOSS: \"+str(log_loss(Y_test, y_pred_proba)))\n",
    "\n",
    "importances = forest.feature_importances_\n",
    "indices = list(np.argsort(importances))[::-1]\n",
    "\n",
    "plt.title(\"Feature importances\")\n",
    "plt.barh(range(len(indices)), importances[indices], color=\"g\", align=\"center\")\n",
    "plt.yticks(range(len(indices)), df_with_maker.iloc[:, 1:].columns[indices])\n",
    "# plt.ylim([-1, len(indices)])\n",
    "plt.gca().invert_yaxis()"
   ]
  },
  {
   "cell_type": "markdown",
   "metadata": {},
   "source": [
    "fill the 2nd dataframe with the prediction..."
   ]
  },
  {
   "cell_type": "code",
   "execution_count": 22,
   "metadata": {},
   "outputs": [],
   "source": [
    "df_no_maker = df_no_maker.drop('maker', axis=1)\n",
    "prediction = forest.predict(df_no_maker)\n",
    "\n",
    "df_no_maker.insert(0, 'maker', prediction)"
   ]
  },
  {
   "cell_type": "markdown",
   "metadata": {},
   "source": [
    "...and then, merge the two dataframe togheter"
   ]
  },
  {
   "cell_type": "code",
   "execution_count": 23,
   "metadata": {},
   "outputs": [
    {
     "name": "stdout",
     "output_type": "stream",
     "text": [
      "1903083\n"
     ]
    },
    {
     "data": {
      "text/html": [
       "<div>\n",
       "<style scoped>\n",
       "    .dataframe tbody tr th:only-of-type {\n",
       "        vertical-align: middle;\n",
       "    }\n",
       "\n",
       "    .dataframe tbody tr th {\n",
       "        vertical-align: top;\n",
       "    }\n",
       "\n",
       "    .dataframe thead th {\n",
       "        text-align: right;\n",
       "    }\n",
       "</style>\n",
       "<table border=\"1\" class=\"dataframe\">\n",
       "  <thead>\n",
       "    <tr style=\"text-align: right;\">\n",
       "      <th></th>\n",
       "      <th>maker</th>\n",
       "      <th>mileage</th>\n",
       "      <th>manufacture_year</th>\n",
       "      <th>engine_displacement</th>\n",
       "      <th>engine_power</th>\n",
       "      <th>price_eur</th>\n",
       "      <th>fuel_type_diesel</th>\n",
       "      <th>fuel_type_gasoline</th>\n",
       "      <th>ad_duration</th>\n",
       "      <th>seat_str_large</th>\n",
       "      <th>seat_str_medium</th>\n",
       "      <th>seat_str_small</th>\n",
       "      <th>transmission_auto</th>\n",
       "      <th>transmission_man</th>\n",
       "    </tr>\n",
       "  </thead>\n",
       "  <tbody>\n",
       "    <tr>\n",
       "      <th>0</th>\n",
       "      <td>ford</td>\n",
       "      <td>151000.0</td>\n",
       "      <td>2011.0</td>\n",
       "      <td>2000.0</td>\n",
       "      <td>103.0</td>\n",
       "      <td>10584.75</td>\n",
       "      <td>1</td>\n",
       "      <td>0</td>\n",
       "      <td>74</td>\n",
       "      <td>1</td>\n",
       "      <td>0</td>\n",
       "      <td>0</td>\n",
       "      <td>0</td>\n",
       "      <td>1</td>\n",
       "    </tr>\n",
       "    <tr>\n",
       "      <th>1</th>\n",
       "      <td>skoda</td>\n",
       "      <td>143476.0</td>\n",
       "      <td>2012.0</td>\n",
       "      <td>2000.0</td>\n",
       "      <td>81.0</td>\n",
       "      <td>8882.31</td>\n",
       "      <td>1</td>\n",
       "      <td>0</td>\n",
       "      <td>74</td>\n",
       "      <td>0</td>\n",
       "      <td>1</td>\n",
       "      <td>0</td>\n",
       "      <td>0</td>\n",
       "      <td>1</td>\n",
       "    </tr>\n",
       "    <tr>\n",
       "      <th>2</th>\n",
       "      <td>bmw</td>\n",
       "      <td>97676.0</td>\n",
       "      <td>2010.0</td>\n",
       "      <td>1995.0</td>\n",
       "      <td>85.0</td>\n",
       "      <td>12065.06</td>\n",
       "      <td>1</td>\n",
       "      <td>0</td>\n",
       "      <td>74</td>\n",
       "      <td>0</td>\n",
       "      <td>1</td>\n",
       "      <td>0</td>\n",
       "      <td>0</td>\n",
       "      <td>1</td>\n",
       "    </tr>\n",
       "    <tr>\n",
       "      <th>3</th>\n",
       "      <td>skoda</td>\n",
       "      <td>111970.0</td>\n",
       "      <td>2004.0</td>\n",
       "      <td>1200.0</td>\n",
       "      <td>63.0</td>\n",
       "      <td>2960.77</td>\n",
       "      <td>0</td>\n",
       "      <td>1</td>\n",
       "      <td>74</td>\n",
       "      <td>0</td>\n",
       "      <td>1</td>\n",
       "      <td>0</td>\n",
       "      <td>0</td>\n",
       "      <td>1</td>\n",
       "    </tr>\n",
       "    <tr>\n",
       "      <th>4</th>\n",
       "      <td>skoda</td>\n",
       "      <td>128886.0</td>\n",
       "      <td>2004.0</td>\n",
       "      <td>1200.0</td>\n",
       "      <td>63.0</td>\n",
       "      <td>2738.71</td>\n",
       "      <td>0</td>\n",
       "      <td>1</td>\n",
       "      <td>74</td>\n",
       "      <td>0</td>\n",
       "      <td>1</td>\n",
       "      <td>0</td>\n",
       "      <td>0</td>\n",
       "      <td>1</td>\n",
       "    </tr>\n",
       "  </tbody>\n",
       "</table>\n",
       "</div>"
      ],
      "text/plain": [
       "   maker   mileage  manufacture_year  engine_displacement  engine_power  \\\n",
       "0   ford  151000.0            2011.0               2000.0         103.0   \n",
       "1  skoda  143476.0            2012.0               2000.0          81.0   \n",
       "2    bmw   97676.0            2010.0               1995.0          85.0   \n",
       "3  skoda  111970.0            2004.0               1200.0          63.0   \n",
       "4  skoda  128886.0            2004.0               1200.0          63.0   \n",
       "\n",
       "   price_eur  fuel_type_diesel  fuel_type_gasoline  ad_duration  \\\n",
       "0   10584.75                 1                   0           74   \n",
       "1    8882.31                 1                   0           74   \n",
       "2   12065.06                 1                   0           74   \n",
       "3    2960.77                 0                   1           74   \n",
       "4    2738.71                 0                   1           74   \n",
       "\n",
       "   seat_str_large  seat_str_medium  seat_str_small  transmission_auto  \\\n",
       "0               1                0               0                  0   \n",
       "1               0                1               0                  0   \n",
       "2               0                1               0                  0   \n",
       "3               0                1               0                  0   \n",
       "4               0                1               0                  0   \n",
       "\n",
       "   transmission_man  \n",
       "0                 1  \n",
       "1                 1  \n",
       "2                 1  \n",
       "3                 1  \n",
       "4                 1  "
      ]
     },
     "execution_count": 23,
     "metadata": {},
     "output_type": "execute_result"
    }
   ],
   "source": [
    "frames = [df_with_maker, df_no_maker]\n",
    "df_final = pd.concat(frames)\n",
    "print(df_final.shape[0])\n",
    "df_final.head()"
   ]
  },
  {
   "cell_type": "code",
   "execution_count": 24,
   "metadata": {},
   "outputs": [
    {
     "name": "stdout",
     "output_type": "stream",
     "text": [
      "MSE: 0.08666277949233664\n",
      "R2 score: 0.8859625825788726\n",
      "Remaining rows: 205752\n"
     ]
    }
   ],
   "source": [
    "df_final = pd.get_dummies(df_final,columns=[\"maker\"])\n",
    "\n",
    "df_final = remove_outliers(df_final)\n",
    "\n",
    "X = df_final.drop(\"price_eur\", axis=1).values\n",
    "Y = np.log1p(df_final[\"price_eur\"].values)\n",
    "\n",
    "X_train, X_test, Y_train, Y_test = train_test_split(X,Y, test_size=0.1, random_state=0)\n",
    "\n",
    "ll = LinearRegression()\n",
    "ll.fit(X_train, Y_train)\n",
    "Y_pred = ll.predict(X_test)\n",
    "\n",
    "mse_list.append(mean_squared_error(Y_test, Y_pred))\n",
    "r2_score_list.append(r2_score(Y_test, Y_pred))\n",
    "num_records_list.append(df_final.shape[0])\n",
    "\n",
    "print(\"MSE: \"+str(mean_squared_error(Y_test, Y_pred)))\n",
    "print(\"R2 score: \"+str(r2_score(Y_test, Y_pred)))\n",
    "print(\"Remaining rows: \"+str(df_final.shape[0]))"
   ]
  },
  {
   "cell_type": "code",
   "execution_count": 25,
   "metadata": {},
   "outputs": [
    {
     "data": {
      "image/png": "[encoded data removed]",
      "text/plain": [
       "<Figure size 432x288 with 1 Axes>"
      ]
     },
     "metadata": {
      "needs_background": "light"
     },
     "output_type": "display_data"
    }
   ],
   "source": [
    "plot_regression(Y_test, Y_pred)"
   ]
  },
  {
   "cell_type": "markdown",
   "metadata": {},
   "source": [
    "## Conclusions"
   ]
  },
  {
   "cell_type": "code",
   "execution_count": 26,
   "metadata": {},
   "outputs": [
    {
     "data": {
      "text/html": [
       "<div>\n",
       "<style scoped>\n",
       "    .dataframe tbody tr th:only-of-type {\n",
       "        vertical-align: middle;\n",
       "    }\n",
       "\n",
       "    .dataframe tbody tr th {\n",
       "        vertical-align: top;\n",
       "    }\n",
       "\n",
       "    .dataframe thead th {\n",
       "        text-align: right;\n",
       "    }\n",
       "</style>\n",
       "<table border=\"1\" class=\"dataframe\">\n",
       "  <thead>\n",
       "    <tr style=\"text-align: right;\">\n",
       "      <th></th>\n",
       "      <th></th>\n",
       "      <th>MSE</th>\n",
       "      <th>R2_score</th>\n",
       "    </tr>\n",
       "  </thead>\n",
       "  <tbody>\n",
       "    <tr>\n",
       "      <th>0</th>\n",
       "      <td>Delete the entire column Maker</td>\n",
       "      <td>0.140137</td>\n",
       "      <td>0.838152</td>\n",
       "    </tr>\n",
       "    <tr>\n",
       "      <th>1</th>\n",
       "      <td>Replace null values with the mode</td>\n",
       "      <td>0.102435</td>\n",
       "      <td>0.870338</td>\n",
       "    </tr>\n",
       "    <tr>\n",
       "      <th>2</th>\n",
       "      <td>Delete rows with null values</td>\n",
       "      <td>0.104658</td>\n",
       "      <td>0.858040</td>\n",
       "    </tr>\n",
       "    <tr>\n",
       "      <th>3</th>\n",
       "      <td>Predict the missing values</td>\n",
       "      <td>0.086663</td>\n",
       "      <td>0.885963</td>\n",
       "    </tr>\n",
       "  </tbody>\n",
       "</table>\n",
       "</div>"
      ],
      "text/plain": [
       "                                           MSE  R2_score\n",
       "0     Delete the entire column Maker  0.140137  0.838152\n",
       "1  Replace null values with the mode  0.102435  0.870338\n",
       "2       Delete rows with null values  0.104658  0.858040\n",
       "3         Predict the missing values  0.086663  0.885963"
      ]
     },
     "execution_count": 26,
     "metadata": {},
     "output_type": "execute_result"
    }
   ],
   "source": [
    "options_list = [\n",
    "    \"Delete the entire column Maker\", \n",
    "    \"Replace null values with the mode\", \n",
    "    \"Delete rows with null values\", \n",
    "    \"Predict the missing values\"\n",
    "]\n",
    "\n",
    "df_metrics = pd.DataFrame({\n",
    "    \"\": options_list,\n",
    "    \"MSE\": mse_list,\n",
    "    \"R2_score\": r2_score_list,\n",
    "    # \"# Records\": num_records_list\n",
    "})\n",
    "df_metrics.head()"
   ]
  },
  {
   "cell_type": "code",
   "execution_count": null,
   "metadata": {},
   "outputs": [],
   "source": []
  }
 ],
 "metadata": {
  "kernelspec": {
   "display_name": "Python 3",
   "language": "python",
   "name": "python3"
  },
  "language_info": {
   "codemirror_mode": {
    "name": "ipython",
    "version": 3
   },
   "file_extension": ".py",
   "mimetype": "text/x-python",
   "name": "python",
   "nbconvert_exporter": "python",
   "pygments_lexer": "ipython3",
   "version": "3.7.3"
  }
 },
 "nbformat": 4,
 "nbformat_minor": 2
}
